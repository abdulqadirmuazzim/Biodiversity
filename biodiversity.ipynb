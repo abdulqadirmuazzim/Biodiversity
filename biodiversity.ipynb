{
 "cells": [
  {
   "cell_type": "markdown",
   "metadata": {},
   "source": [
    "# Introduction: Biodiversity Analysis\n",
    "\n",
    "In this project we'll interpret data from National Parks about endangered species in different parks. We will look at the conservation status of some species and try to find patterns as to why some species are endangered. The questions we'll be answering are:\n",
    "<br>\n",
    "- What is the distribution of conservation status for species?\n",
    "- Are certain types of species more likely to be endangered?\n",
    "- Are the differences between species and their conservation status significant?\n",
    "- What is the distribution of observations for species in different parks?\n",
    "- Which animal is most prevalent and what is their distribution amongst parks?\n",
    "\n",
    "\n",
    "## Project scoping \n",
    "\n",
    "Whenever performing a data analysis it's important to scope the project in order to get a good grasp of our project goals, analysis and data. Our project goals are simply the main reason we're performing this analysis in the first place and our analysis is simply how we look at our data and extract useful insights that will help better our situation and as for our data it's what we're performing the analysis on provided by (hopefully) reliable sources. \n",
    "\n",
    "#### Project Goals\n",
    "The goal of this project is to interprete data from National parks about endangered species in different parks. This is so that we can tell the park managers what the status of their parks are in terms of species that are endangered and help suggest solutions to better cater for them. \n",
    "\n",
    "#### Analysis\n",
    "Here we'll analyse, clean, visualize and draw insightful conclusions on the data, when analysing we'll focus mainly on endangered species in different categories and see if there are any patterns as to why they are endangered.\n",
    "\n",
    "#### Data\n",
    "This data is provided by [Codecademy](\"https://codecademy.com\"), although it's fictional, it's inspired by real life data. This data consist of 2 csv file `species.csv` and `observation.csv` the `species.csv` data has 5824 rows and 4 columns (variables):\n",
    "\n",
    "\n",
    "- category: The category of the species\n",
    "- scientific_name: The scientific or botanical names of the species\n",
    "- common_names: The common names of the species\n",
    "- conservation_status: The level of conservation of the species\n",
    "\n",
    "while our `observation.csv` has 23296 rows and 3 columns (variables)\n",
    "\n",
    "- scientific_name: The scientific or botanical name of the species\n",
    "- park_name: The name of the park which the species was sighted\n",
    "- observations: The number of observations within the last seven days\n",
    "\n",
    "\n",
    "Now that we have our scope defined let's start by importing the necessary libraries"
   ]
  },
  {
   "cell_type": "code",
   "execution_count": 1,
   "metadata": {},
   "outputs": [],
   "source": [
    "import pandas as pd\n",
    "import numpy as np \n",
    "import matplotlib.pyplot as plt\n",
    "import seaborn as sns"
   ]
  },
  {
   "cell_type": "markdown",
   "metadata": {},
   "source": [
    "Load the data using `.read_csv` in the pandas library"
   ]
  },
  {
   "cell_type": "code",
   "execution_count": 2,
   "metadata": {},
   "outputs": [],
   "source": [
    "observation = pd.read_csv(\"observations.csv\")\n",
    "species = pd.read_csv(\"species_info.csv\")"
   ]
  },
  {
   "cell_type": "markdown",
   "metadata": {},
   "source": [
    "### EDA"
   ]
  },
  {
   "cell_type": "code",
   "execution_count": 3,
   "metadata": {},
   "outputs": [
    {
     "name": "stdout",
     "output_type": "stream",
     "text": [
      "The shape of observation.csv: 23296 rows and 3 columns\n"
     ]
    },
    {
     "data": {
      "text/html": [
       "<div>\n",
       "<style scoped>\n",
       "    .dataframe tbody tr th:only-of-type {\n",
       "        vertical-align: middle;\n",
       "    }\n",
       "\n",
       "    .dataframe tbody tr th {\n",
       "        vertical-align: top;\n",
       "    }\n",
       "\n",
       "    .dataframe thead th {\n",
       "        text-align: right;\n",
       "    }\n",
       "</style>\n",
       "<table border=\"1\" class=\"dataframe\">\n",
       "  <thead>\n",
       "    <tr style=\"text-align: right;\">\n",
       "      <th></th>\n",
       "      <th>scientific_name</th>\n",
       "      <th>park_name</th>\n",
       "      <th>observations</th>\n",
       "    </tr>\n",
       "  </thead>\n",
       "  <tbody>\n",
       "    <tr>\n",
       "      <th>0</th>\n",
       "      <td>Vicia benghalensis</td>\n",
       "      <td>Great Smoky Mountains National Park</td>\n",
       "      <td>68</td>\n",
       "    </tr>\n",
       "    <tr>\n",
       "      <th>1</th>\n",
       "      <td>Neovison vison</td>\n",
       "      <td>Great Smoky Mountains National Park</td>\n",
       "      <td>77</td>\n",
       "    </tr>\n",
       "    <tr>\n",
       "      <th>2</th>\n",
       "      <td>Prunus subcordata</td>\n",
       "      <td>Yosemite National Park</td>\n",
       "      <td>138</td>\n",
       "    </tr>\n",
       "    <tr>\n",
       "      <th>3</th>\n",
       "      <td>Abutilon theophrasti</td>\n",
       "      <td>Bryce National Park</td>\n",
       "      <td>84</td>\n",
       "    </tr>\n",
       "    <tr>\n",
       "      <th>4</th>\n",
       "      <td>Githopsis specularioides</td>\n",
       "      <td>Great Smoky Mountains National Park</td>\n",
       "      <td>85</td>\n",
       "    </tr>\n",
       "  </tbody>\n",
       "</table>\n",
       "</div>"
      ],
      "text/plain": [
       "            scientific_name                            park_name  observations\n",
       "0        Vicia benghalensis  Great Smoky Mountains National Park            68\n",
       "1            Neovison vison  Great Smoky Mountains National Park            77\n",
       "2         Prunus subcordata               Yosemite National Park           138\n",
       "3      Abutilon theophrasti                  Bryce National Park            84\n",
       "4  Githopsis specularioides  Great Smoky Mountains National Park            85"
      ]
     },
     "execution_count": 3,
     "metadata": {},
     "output_type": "execute_result"
    }
   ],
   "source": [
    "print(f\"The shape of observation.csv: {observation.shape[0]} rows and {observation.shape[1]} columns\")\n",
    "observation.head()"
   ]
  },
  {
   "cell_type": "code",
   "execution_count": 4,
   "metadata": {},
   "outputs": [
    {
     "name": "stdout",
     "output_type": "stream",
     "text": [
      "The shape of species.csv: 5824 rows and 4 columns\n"
     ]
    },
    {
     "data": {
      "text/html": [
       "<div>\n",
       "<style scoped>\n",
       "    .dataframe tbody tr th:only-of-type {\n",
       "        vertical-align: middle;\n",
       "    }\n",
       "\n",
       "    .dataframe tbody tr th {\n",
       "        vertical-align: top;\n",
       "    }\n",
       "\n",
       "    .dataframe thead th {\n",
       "        text-align: right;\n",
       "    }\n",
       "</style>\n",
       "<table border=\"1\" class=\"dataframe\">\n",
       "  <thead>\n",
       "    <tr style=\"text-align: right;\">\n",
       "      <th></th>\n",
       "      <th>category</th>\n",
       "      <th>scientific_name</th>\n",
       "      <th>common_names</th>\n",
       "      <th>conservation_status</th>\n",
       "    </tr>\n",
       "  </thead>\n",
       "  <tbody>\n",
       "    <tr>\n",
       "      <th>0</th>\n",
       "      <td>Mammal</td>\n",
       "      <td>Clethrionomys gapperi gapperi</td>\n",
       "      <td>Gapper's Red-Backed Vole</td>\n",
       "      <td>NaN</td>\n",
       "    </tr>\n",
       "    <tr>\n",
       "      <th>1</th>\n",
       "      <td>Mammal</td>\n",
       "      <td>Bos bison</td>\n",
       "      <td>American Bison, Bison</td>\n",
       "      <td>NaN</td>\n",
       "    </tr>\n",
       "    <tr>\n",
       "      <th>2</th>\n",
       "      <td>Mammal</td>\n",
       "      <td>Bos taurus</td>\n",
       "      <td>Aurochs, Aurochs, Domestic Cattle (Feral), Dom...</td>\n",
       "      <td>NaN</td>\n",
       "    </tr>\n",
       "    <tr>\n",
       "      <th>3</th>\n",
       "      <td>Mammal</td>\n",
       "      <td>Ovis aries</td>\n",
       "      <td>Domestic Sheep, Mouflon, Red Sheep, Sheep (Feral)</td>\n",
       "      <td>NaN</td>\n",
       "    </tr>\n",
       "    <tr>\n",
       "      <th>4</th>\n",
       "      <td>Mammal</td>\n",
       "      <td>Cervus elaphus</td>\n",
       "      <td>Wapiti Or Elk</td>\n",
       "      <td>NaN</td>\n",
       "    </tr>\n",
       "  </tbody>\n",
       "</table>\n",
       "</div>"
      ],
      "text/plain": [
       "  category                scientific_name  \\\n",
       "0   Mammal  Clethrionomys gapperi gapperi   \n",
       "1   Mammal                      Bos bison   \n",
       "2   Mammal                     Bos taurus   \n",
       "3   Mammal                     Ovis aries   \n",
       "4   Mammal                 Cervus elaphus   \n",
       "\n",
       "                                        common_names conservation_status  \n",
       "0                           Gapper's Red-Backed Vole                 NaN  \n",
       "1                              American Bison, Bison                 NaN  \n",
       "2  Aurochs, Aurochs, Domestic Cattle (Feral), Dom...                 NaN  \n",
       "3  Domestic Sheep, Mouflon, Red Sheep, Sheep (Feral)                 NaN  \n",
       "4                                      Wapiti Or Elk                 NaN  "
      ]
     },
     "execution_count": 4,
     "metadata": {},
     "output_type": "execute_result"
    }
   ],
   "source": [
    "print(f\"The shape of species.csv: {species.shape[0]} rows and {species.shape[1]} columns\")\n",
    "species.head()"
   ]
  },
  {
   "cell_type": "markdown",
   "metadata": {},
   "source": [
    "Let's use the `.describe` function to get a five number summary of our data"
   ]
  },
  {
   "cell_type": "code",
   "execution_count": 5,
   "metadata": {},
   "outputs": [
    {
     "data": {
      "text/html": [
       "<div>\n",
       "<style scoped>\n",
       "    .dataframe tbody tr th:only-of-type {\n",
       "        vertical-align: middle;\n",
       "    }\n",
       "\n",
       "    .dataframe tbody tr th {\n",
       "        vertical-align: top;\n",
       "    }\n",
       "\n",
       "    .dataframe thead th {\n",
       "        text-align: right;\n",
       "    }\n",
       "</style>\n",
       "<table border=\"1\" class=\"dataframe\">\n",
       "  <thead>\n",
       "    <tr style=\"text-align: right;\">\n",
       "      <th></th>\n",
       "      <th>category</th>\n",
       "      <th>scientific_name</th>\n",
       "      <th>common_names</th>\n",
       "      <th>conservation_status</th>\n",
       "    </tr>\n",
       "  </thead>\n",
       "  <tbody>\n",
       "    <tr>\n",
       "      <th>count</th>\n",
       "      <td>5824</td>\n",
       "      <td>5824</td>\n",
       "      <td>5824</td>\n",
       "      <td>191</td>\n",
       "    </tr>\n",
       "    <tr>\n",
       "      <th>unique</th>\n",
       "      <td>7</td>\n",
       "      <td>5541</td>\n",
       "      <td>5504</td>\n",
       "      <td>4</td>\n",
       "    </tr>\n",
       "    <tr>\n",
       "      <th>top</th>\n",
       "      <td>Vascular Plant</td>\n",
       "      <td>Castor canadensis</td>\n",
       "      <td>Brachythecium Moss</td>\n",
       "      <td>Species of Concern</td>\n",
       "    </tr>\n",
       "    <tr>\n",
       "      <th>freq</th>\n",
       "      <td>4470</td>\n",
       "      <td>3</td>\n",
       "      <td>7</td>\n",
       "      <td>161</td>\n",
       "    </tr>\n",
       "  </tbody>\n",
       "</table>\n",
       "</div>"
      ],
      "text/plain": [
       "              category    scientific_name        common_names  \\\n",
       "count             5824               5824                5824   \n",
       "unique               7               5541                5504   \n",
       "top     Vascular Plant  Castor canadensis  Brachythecium Moss   \n",
       "freq              4470                  3                   7   \n",
       "\n",
       "       conservation_status  \n",
       "count                  191  \n",
       "unique                   4  \n",
       "top     Species of Concern  \n",
       "freq                   161  "
      ]
     },
     "execution_count": 5,
     "metadata": {},
     "output_type": "execute_result"
    }
   ],
   "source": [
    "# species.csv\n",
    "species.describe(include='all')"
   ]
  },
  {
   "cell_type": "code",
   "execution_count": 6,
   "metadata": {},
   "outputs": [
    {
     "data": {
      "text/html": [
       "<div>\n",
       "<style scoped>\n",
       "    .dataframe tbody tr th:only-of-type {\n",
       "        vertical-align: middle;\n",
       "    }\n",
       "\n",
       "    .dataframe tbody tr th {\n",
       "        vertical-align: top;\n",
       "    }\n",
       "\n",
       "    .dataframe thead th {\n",
       "        text-align: right;\n",
       "    }\n",
       "</style>\n",
       "<table border=\"1\" class=\"dataframe\">\n",
       "  <thead>\n",
       "    <tr style=\"text-align: right;\">\n",
       "      <th></th>\n",
       "      <th>scientific_name</th>\n",
       "      <th>park_name</th>\n",
       "      <th>observations</th>\n",
       "    </tr>\n",
       "  </thead>\n",
       "  <tbody>\n",
       "    <tr>\n",
       "      <th>count</th>\n",
       "      <td>23296</td>\n",
       "      <td>23296</td>\n",
       "      <td>23296.000000</td>\n",
       "    </tr>\n",
       "    <tr>\n",
       "      <th>unique</th>\n",
       "      <td>5541</td>\n",
       "      <td>4</td>\n",
       "      <td>NaN</td>\n",
       "    </tr>\n",
       "    <tr>\n",
       "      <th>top</th>\n",
       "      <td>Myotis lucifugus</td>\n",
       "      <td>Great Smoky Mountains National Park</td>\n",
       "      <td>NaN</td>\n",
       "    </tr>\n",
       "    <tr>\n",
       "      <th>freq</th>\n",
       "      <td>12</td>\n",
       "      <td>5824</td>\n",
       "      <td>NaN</td>\n",
       "    </tr>\n",
       "    <tr>\n",
       "      <th>mean</th>\n",
       "      <td>NaN</td>\n",
       "      <td>NaN</td>\n",
       "      <td>142.287904</td>\n",
       "    </tr>\n",
       "    <tr>\n",
       "      <th>std</th>\n",
       "      <td>NaN</td>\n",
       "      <td>NaN</td>\n",
       "      <td>69.890532</td>\n",
       "    </tr>\n",
       "    <tr>\n",
       "      <th>min</th>\n",
       "      <td>NaN</td>\n",
       "      <td>NaN</td>\n",
       "      <td>9.000000</td>\n",
       "    </tr>\n",
       "    <tr>\n",
       "      <th>25%</th>\n",
       "      <td>NaN</td>\n",
       "      <td>NaN</td>\n",
       "      <td>86.000000</td>\n",
       "    </tr>\n",
       "    <tr>\n",
       "      <th>50%</th>\n",
       "      <td>NaN</td>\n",
       "      <td>NaN</td>\n",
       "      <td>124.000000</td>\n",
       "    </tr>\n",
       "    <tr>\n",
       "      <th>75%</th>\n",
       "      <td>NaN</td>\n",
       "      <td>NaN</td>\n",
       "      <td>195.000000</td>\n",
       "    </tr>\n",
       "    <tr>\n",
       "      <th>max</th>\n",
       "      <td>NaN</td>\n",
       "      <td>NaN</td>\n",
       "      <td>321.000000</td>\n",
       "    </tr>\n",
       "  </tbody>\n",
       "</table>\n",
       "</div>"
      ],
      "text/plain": [
       "         scientific_name                            park_name  observations\n",
       "count              23296                                23296  23296.000000\n",
       "unique              5541                                    4           NaN\n",
       "top     Myotis lucifugus  Great Smoky Mountains National Park           NaN\n",
       "freq                  12                                 5824           NaN\n",
       "mean                 NaN                                  NaN    142.287904\n",
       "std                  NaN                                  NaN     69.890532\n",
       "min                  NaN                                  NaN      9.000000\n",
       "25%                  NaN                                  NaN     86.000000\n",
       "50%                  NaN                                  NaN    124.000000\n",
       "75%                  NaN                                  NaN    195.000000\n",
       "max                  NaN                                  NaN    321.000000"
      ]
     },
     "execution_count": 6,
     "metadata": {},
     "output_type": "execute_result"
    }
   ],
   "source": [
    "observation.describe(include=\"all\")"
   ]
  },
  {
   "cell_type": "markdown",
   "metadata": {},
   "source": [
    "Let's check for duplicate rows and drop them if there are any"
   ]
  },
  {
   "cell_type": "code",
   "execution_count": 7,
   "metadata": {},
   "outputs": [
    {
     "data": {
      "text/plain": [
       "0"
      ]
     },
     "execution_count": 7,
     "metadata": {},
     "output_type": "execute_result"
    }
   ],
   "source": [
    "species.duplicated().sum()"
   ]
  },
  {
   "cell_type": "code",
   "execution_count": 8,
   "metadata": {},
   "outputs": [
    {
     "data": {
      "text/plain": [
       "15"
      ]
     },
     "execution_count": 8,
     "metadata": {},
     "output_type": "execute_result"
    }
   ],
   "source": [
    "observation.duplicated().sum()"
   ]
  },
  {
   "cell_type": "code",
   "execution_count": 9,
   "metadata": {},
   "outputs": [],
   "source": [
    "observation.drop_duplicates(inplace=True)"
   ]
  },
  {
   "cell_type": "markdown",
   "metadata": {},
   "source": [
    "In our `species.csv` all columns seem to have no missing data except for `conservation_status` columns which seems to be missing a huge amount of data, and in the `category` column the `Vascular Plant` has the highest occurance above all the category of species.\n",
    "In our `observation.csv` none of the data seems missing, we're in luck! We can also see that the highest`observations` 321 in a park and I would guess that the species responsible for this the `Vascular Plant` but we can't be sure yet we'll have to find out"
   ]
  },
  {
   "cell_type": "markdown",
   "metadata": {},
   "source": [
    "### Missing data"
   ]
  },
  {
   "cell_type": "code",
   "execution_count": 10,
   "metadata": {},
   "outputs": [
    {
     "data": {
      "text/plain": [
       "scientific_name    0\n",
       "park_name          0\n",
       "observations       0\n",
       "dtype: int64"
      ]
     },
     "execution_count": 10,
     "metadata": {},
     "output_type": "execute_result"
    }
   ],
   "source": [
    "observation.isna().sum()"
   ]
  },
  {
   "cell_type": "code",
   "execution_count": 11,
   "metadata": {},
   "outputs": [
    {
     "name": "stdout",
     "output_type": "stream",
     "text": [
      "The percent of missing data in each column:\n",
      "\n"
     ]
    },
    {
     "data": {
      "text/plain": [
       "category                0.000000\n",
       "scientific_name         0.000000\n",
       "common_names            0.000000\n",
       "conservation_status    96.720467\n",
       "dtype: float64"
      ]
     },
     "execution_count": 11,
     "metadata": {},
     "output_type": "execute_result"
    }
   ],
   "source": [
    "print(\"The percent of missing data in each column:\\n\")\n",
    "species.isna().sum() * 100 / len(species)"
   ]
  },
  {
   "cell_type": "code",
   "execution_count": 12,
   "metadata": {},
   "outputs": [
    {
     "name": "stdout",
     "output_type": "stream",
     "text": [
      "missing: 5633\n"
     ]
    },
    {
     "data": {
      "text/plain": [
       "Species of Concern    161\n",
       "Endangered             16\n",
       "Threatened             10\n",
       "In Recovery             4\n",
       "Name: conservation_status, dtype: int64"
      ]
     },
     "execution_count": 12,
     "metadata": {},
     "output_type": "execute_result"
    }
   ],
   "source": [
    "# let's take a closer look at the \"conservation_status\" column\n",
    "print(f\"missing: {len(species) - species.conservation_status.count()}\")\n",
    "species.conservation_status.value_counts()"
   ]
  },
  {
   "cell_type": "markdown",
   "metadata": {},
   "source": [
    "We can see that the `conservation_status` of this species is either `Species of Concern`, `Endangered`, `Threatened` or `In Recovery` while the rest seems to be missing. Which means they were never looked into whether they were endangered or threatened species of concern and so on. So let's just label them as `Not_concerned`"
   ]
  },
  {
   "cell_type": "code",
   "execution_count": 13,
   "metadata": {},
   "outputs": [],
   "source": [
    "species.fillna(value={\"conservation_status\": \"Not_concerned\"}, inplace=True)"
   ]
  },
  {
   "cell_type": "code",
   "execution_count": 14,
   "metadata": {},
   "outputs": [
    {
     "data": {
      "text/html": [
       "<div>\n",
       "<style scoped>\n",
       "    .dataframe tbody tr th:only-of-type {\n",
       "        vertical-align: middle;\n",
       "    }\n",
       "\n",
       "    .dataframe tbody tr th {\n",
       "        vertical-align: top;\n",
       "    }\n",
       "\n",
       "    .dataframe thead th {\n",
       "        text-align: right;\n",
       "    }\n",
       "</style>\n",
       "<table border=\"1\" class=\"dataframe\">\n",
       "  <thead>\n",
       "    <tr style=\"text-align: right;\">\n",
       "      <th></th>\n",
       "      <th>category</th>\n",
       "      <th>scientific_name</th>\n",
       "      <th>common_names</th>\n",
       "      <th>conservation_status</th>\n",
       "    </tr>\n",
       "  </thead>\n",
       "  <tbody>\n",
       "    <tr>\n",
       "      <th>0</th>\n",
       "      <td>Mammal</td>\n",
       "      <td>Clethrionomys gapperi gapperi</td>\n",
       "      <td>Gapper's Red-Backed Vole</td>\n",
       "      <td>Not_concerned</td>\n",
       "    </tr>\n",
       "    <tr>\n",
       "      <th>1</th>\n",
       "      <td>Mammal</td>\n",
       "      <td>Bos bison</td>\n",
       "      <td>American Bison, Bison</td>\n",
       "      <td>Not_concerned</td>\n",
       "    </tr>\n",
       "    <tr>\n",
       "      <th>2</th>\n",
       "      <td>Mammal</td>\n",
       "      <td>Bos taurus</td>\n",
       "      <td>Aurochs, Aurochs, Domestic Cattle (Feral), Dom...</td>\n",
       "      <td>Not_concerned</td>\n",
       "    </tr>\n",
       "  </tbody>\n",
       "</table>\n",
       "</div>"
      ],
      "text/plain": [
       "  category                scientific_name  \\\n",
       "0   Mammal  Clethrionomys gapperi gapperi   \n",
       "1   Mammal                      Bos bison   \n",
       "2   Mammal                     Bos taurus   \n",
       "\n",
       "                                        common_names conservation_status  \n",
       "0                           Gapper's Red-Backed Vole       Not_concerned  \n",
       "1                              American Bison, Bison       Not_concerned  \n",
       "2  Aurochs, Aurochs, Domestic Cattle (Feral), Dom...       Not_concerned  "
      ]
     },
     "execution_count": 14,
     "metadata": {},
     "output_type": "execute_result"
    }
   ],
   "source": [
    "species.head(3)"
   ]
  },
  {
   "cell_type": "markdown",
   "metadata": {},
   "source": [
    "### Analysis"
   ]
  },
  {
   "cell_type": "markdown",
   "metadata": {},
   "source": [
    "What is the distribution of the conservation status for species?<br>\n",
    "Let's see how many species are in each category"
   ]
  },
  {
   "cell_type": "code",
   "execution_count": 15,
   "metadata": {},
   "outputs": [
    {
     "data": {
      "text/plain": [
       "Vascular Plant       4470\n",
       "Bird                  521\n",
       "Nonvascular Plant     333\n",
       "Mammal                214\n",
       "Fish                  127\n",
       "Amphibian              80\n",
       "Reptile                79\n",
       "Name: category, dtype: int64"
      ]
     },
     "execution_count": 15,
     "metadata": {},
     "output_type": "execute_result"
    }
   ],
   "source": [
    "categories = species.category.value_counts()\n",
    "categories"
   ]
  },
  {
   "cell_type": "markdown",
   "metadata": {},
   "source": [
    "We can see `Vascular Plant` has the highest number of species but what about their `conservation_status`"
   ]
  },
  {
   "cell_type": "code",
   "execution_count": 16,
   "metadata": {},
   "outputs": [
    {
     "data": {
      "image/png": "[encoded data removed]",
      "text/plain": [
       "<Figure size 1200x600 with 1 Axes>"
      ]
     },
     "metadata": {},
     "output_type": "display_data"
    }
   ],
   "source": [
    "cat_conserve = species[species.conservation_status != \"Not_concerned\"]\\\n",
    ".groupby([\"category\", \"conservation_status\"]).common_names.count()\\\n",
    ".reset_index()\\\n",
    ".sort_values(by=\"common_names\", ascending=False)\n",
    "\n",
    "plt.figure(figsize=(12, 6))\n",
    "sns.barplot(data=cat_conserve, x=\"category\", y=\"common_names\", hue=\"conservation_status\")\n",
    "plt.xticks(rotation=30)\n",
    "plt.show()"
   ]
  },
  {
   "cell_type": "markdown",
   "metadata": {},
   "source": [
    "The distribution of the `conservation_status` among species is centered around `Bird` being the highest `Species of Concern` followed by `Vascular Plant` then `Mammals` and we can also see that `Bird` and `Mammal` are the most `Endangered` species"
   ]
  },
  {
   "cell_type": "markdown",
   "metadata": {},
   "source": [
    "Are certain types of species more likely to be endangered? <br>\n",
    "To determine this we would have to look at the `conservation_status` column for answers, we can assume that some species `conservation_status` were missing due to them never being known and cared about, so we'll create a new column `is_cared` to describe whether or not the species are protected"
   ]
  },
  {
   "cell_type": "code",
   "execution_count": 17,
   "metadata": {},
   "outputs": [
    {
     "data": {
      "text/html": [
       "<div>\n",
       "<style scoped>\n",
       "    .dataframe tbody tr th:only-of-type {\n",
       "        vertical-align: middle;\n",
       "    }\n",
       "\n",
       "    .dataframe tbody tr th {\n",
       "        vertical-align: top;\n",
       "    }\n",
       "\n",
       "    .dataframe thead th {\n",
       "        text-align: right;\n",
       "    }\n",
       "</style>\n",
       "<table border=\"1\" class=\"dataframe\">\n",
       "  <thead>\n",
       "    <tr style=\"text-align: right;\">\n",
       "      <th></th>\n",
       "      <th>category</th>\n",
       "      <th>scientific_name</th>\n",
       "      <th>common_names</th>\n",
       "      <th>conservation_status</th>\n",
       "      <th>is_cared</th>\n",
       "    </tr>\n",
       "  </thead>\n",
       "  <tbody>\n",
       "    <tr>\n",
       "      <th>0</th>\n",
       "      <td>Mammal</td>\n",
       "      <td>Clethrionomys gapperi gapperi</td>\n",
       "      <td>Gapper's Red-Backed Vole</td>\n",
       "      <td>Not_concerned</td>\n",
       "      <td>False</td>\n",
       "    </tr>\n",
       "    <tr>\n",
       "      <th>1</th>\n",
       "      <td>Mammal</td>\n",
       "      <td>Bos bison</td>\n",
       "      <td>American Bison, Bison</td>\n",
       "      <td>Not_concerned</td>\n",
       "      <td>False</td>\n",
       "    </tr>\n",
       "    <tr>\n",
       "      <th>2</th>\n",
       "      <td>Mammal</td>\n",
       "      <td>Bos taurus</td>\n",
       "      <td>Aurochs, Aurochs, Domestic Cattle (Feral), Dom...</td>\n",
       "      <td>Not_concerned</td>\n",
       "      <td>False</td>\n",
       "    </tr>\n",
       "  </tbody>\n",
       "</table>\n",
       "</div>"
      ],
      "text/plain": [
       "  category                scientific_name  \\\n",
       "0   Mammal  Clethrionomys gapperi gapperi   \n",
       "1   Mammal                      Bos bison   \n",
       "2   Mammal                     Bos taurus   \n",
       "\n",
       "                                        common_names conservation_status  \\\n",
       "0                           Gapper's Red-Backed Vole       Not_concerned   \n",
       "1                              American Bison, Bison       Not_concerned   \n",
       "2  Aurochs, Aurochs, Domestic Cattle (Feral), Dom...       Not_concerned   \n",
       "\n",
       "   is_cared  \n",
       "0     False  \n",
       "1     False  \n",
       "2     False  "
      ]
     },
     "execution_count": 17,
     "metadata": {},
     "output_type": "execute_result"
    }
   ],
   "source": [
    "species['is_cared'] = species.conservation_status != \"Not_concerned\"\n",
    "species.head(3)"
   ]
  },
  {
   "cell_type": "markdown",
   "metadata": {},
   "source": [
    "The next step is to look at the `is_concerned` and group our data by `category` and `is_safe` then count the number of species in each case"
   ]
  },
  {
   "cell_type": "code",
   "execution_count": 18,
   "metadata": {},
   "outputs": [
    {
     "data": {
      "text/html": [
       "<div>\n",
       "<style scoped>\n",
       "    .dataframe tbody tr th:only-of-type {\n",
       "        vertical-align: middle;\n",
       "    }\n",
       "\n",
       "    .dataframe tbody tr th {\n",
       "        vertical-align: top;\n",
       "    }\n",
       "\n",
       "    .dataframe thead th {\n",
       "        text-align: right;\n",
       "    }\n",
       "</style>\n",
       "<table border=\"1\" class=\"dataframe\">\n",
       "  <thead>\n",
       "    <tr style=\"text-align: right;\">\n",
       "      <th>is_cared</th>\n",
       "      <th>No</th>\n",
       "      <th>Yes</th>\n",
       "      <th>percent_cared</th>\n",
       "    </tr>\n",
       "    <tr>\n",
       "      <th>category</th>\n",
       "      <th></th>\n",
       "      <th></th>\n",
       "      <th></th>\n",
       "    </tr>\n",
       "  </thead>\n",
       "  <tbody>\n",
       "    <tr>\n",
       "      <th>Amphibian</th>\n",
       "      <td>73</td>\n",
       "      <td>7</td>\n",
       "      <td>8.750000</td>\n",
       "    </tr>\n",
       "    <tr>\n",
       "      <th>Bird</th>\n",
       "      <td>442</td>\n",
       "      <td>79</td>\n",
       "      <td>15.163148</td>\n",
       "    </tr>\n",
       "    <tr>\n",
       "      <th>Fish</th>\n",
       "      <td>116</td>\n",
       "      <td>11</td>\n",
       "      <td>8.661417</td>\n",
       "    </tr>\n",
       "    <tr>\n",
       "      <th>Mammal</th>\n",
       "      <td>176</td>\n",
       "      <td>38</td>\n",
       "      <td>17.757009</td>\n",
       "    </tr>\n",
       "    <tr>\n",
       "      <th>Nonvascular Plant</th>\n",
       "      <td>328</td>\n",
       "      <td>5</td>\n",
       "      <td>1.501502</td>\n",
       "    </tr>\n",
       "    <tr>\n",
       "      <th>Reptile</th>\n",
       "      <td>74</td>\n",
       "      <td>5</td>\n",
       "      <td>6.329114</td>\n",
       "    </tr>\n",
       "    <tr>\n",
       "      <th>Vascular Plant</th>\n",
       "      <td>4424</td>\n",
       "      <td>46</td>\n",
       "      <td>1.029083</td>\n",
       "    </tr>\n",
       "  </tbody>\n",
       "</table>\n",
       "</div>"
      ],
      "text/plain": [
       "is_cared             No  Yes  percent_cared\n",
       "category                                   \n",
       "Amphibian            73    7       8.750000\n",
       "Bird                442   79      15.163148\n",
       "Fish                116   11       8.661417\n",
       "Mammal              176   38      17.757009\n",
       "Nonvascular Plant   328    5       1.501502\n",
       "Reptile              74    5       6.329114\n",
       "Vascular Plant     4424   46       1.029083"
      ]
     },
     "execution_count": 18,
     "metadata": {},
     "output_type": "execute_result"
    }
   ],
   "source": [
    "species_care = pd.crosstab(species.category, species.is_cared)\n",
    "\n",
    "species_care = species_care.rename(columns={True:\"Yes\", False:\"No\"})\n",
    "\n",
    "species_care['percent_cared'] = species_care[\"Yes\"] * 100 / species_care.sum(axis=1)\n",
    "\n",
    "species_care"
   ]
  },
  {
   "cell_type": "markdown",
   "metadata": {},
   "source": [
    "It looks like the park managers really have to sit up on this, in all the category of species only few (not even up to 20%) of each category were taken into consideration, only 1% of `Vascular Plant` were cared for and for `Mammal` only ~18% like wise for `Bird` ~15%. <br>\n",
    "But for us to know which species is likely to be endangered we have to take into consideration the total number of species in each category, for example we seen only ~1% of `Vascular Plant` are protected but that is because there are a lot of species there, the total number of species cared for is 46 out of 4424, when we compare that to `Fish` which has ~9% of it's species protected we think that `Vascular Plant` is more endangered but in reality `Fish` might be more endangered due to is small number of species over all. To better understand which species is more likely to be endangered we'll look at species that are  `Endangered` and `Threatened`"
   ]
  },
  {
   "cell_type": "code",
   "execution_count": 115,
   "metadata": {},
   "outputs": [
    {
     "data": {
      "text/html": [
       "<div>\n",
       "<style scoped>\n",
       "    .dataframe tbody tr th:only-of-type {\n",
       "        vertical-align: middle;\n",
       "    }\n",
       "\n",
       "    .dataframe tbody tr th {\n",
       "        vertical-align: top;\n",
       "    }\n",
       "\n",
       "    .dataframe thead th {\n",
       "        text-align: right;\n",
       "    }\n",
       "</style>\n",
       "<table border=\"1\" class=\"dataframe\">\n",
       "  <thead>\n",
       "    <tr style=\"text-align: right;\">\n",
       "      <th>conservation_status</th>\n",
       "      <th>Endangered</th>\n",
       "      <th>In Recovery</th>\n",
       "      <th>Species of Concern</th>\n",
       "      <th>Threatened</th>\n",
       "    </tr>\n",
       "    <tr>\n",
       "      <th>category</th>\n",
       "      <th></th>\n",
       "      <th></th>\n",
       "      <th></th>\n",
       "      <th></th>\n",
       "    </tr>\n",
       "  </thead>\n",
       "  <tbody>\n",
       "    <tr>\n",
       "      <th>Amphibian</th>\n",
       "      <td>1</td>\n",
       "      <td>0</td>\n",
       "      <td>4</td>\n",
       "      <td>2</td>\n",
       "    </tr>\n",
       "    <tr>\n",
       "      <th>Bird</th>\n",
       "      <td>4</td>\n",
       "      <td>3</td>\n",
       "      <td>72</td>\n",
       "      <td>0</td>\n",
       "    </tr>\n",
       "    <tr>\n",
       "      <th>Fish</th>\n",
       "      <td>3</td>\n",
       "      <td>0</td>\n",
       "      <td>4</td>\n",
       "      <td>4</td>\n",
       "    </tr>\n",
       "    <tr>\n",
       "      <th>Mammal</th>\n",
       "      <td>7</td>\n",
       "      <td>1</td>\n",
       "      <td>28</td>\n",
       "      <td>2</td>\n",
       "    </tr>\n",
       "    <tr>\n",
       "      <th>Nonvascular Plant</th>\n",
       "      <td>0</td>\n",
       "      <td>0</td>\n",
       "      <td>5</td>\n",
       "      <td>0</td>\n",
       "    </tr>\n",
       "    <tr>\n",
       "      <th>Reptile</th>\n",
       "      <td>0</td>\n",
       "      <td>0</td>\n",
       "      <td>5</td>\n",
       "      <td>0</td>\n",
       "    </tr>\n",
       "    <tr>\n",
       "      <th>Vascular Plant</th>\n",
       "      <td>1</td>\n",
       "      <td>0</td>\n",
       "      <td>43</td>\n",
       "      <td>2</td>\n",
       "    </tr>\n",
       "  </tbody>\n",
       "</table>\n",
       "</div>"
      ],
      "text/plain": [
       "conservation_status  Endangered  In Recovery  Species of Concern  Threatened\n",
       "category                                                                    \n",
       "Amphibian                     1            0                   4           2\n",
       "Bird                          4            3                  72           0\n",
       "Fish                          3            0                   4           4\n",
       "Mammal                        7            1                  28           2\n",
       "Nonvascular Plant             0            0                   5           0\n",
       "Reptile                       0            0                   5           0\n",
       "Vascular Plant                1            0                  43           2"
      ]
     },
     "execution_count": 115,
     "metadata": {},
     "output_type": "execute_result"
    }
   ],
   "source": [
    "data = species[species.conservation_status != \"Not_concerned\"]\n",
    "species_status = pd.crosstab(data.category, data.conservation_status)\n",
    "species_status"
   ]
  },
  {
   "cell_type": "markdown",
   "metadata": {},
   "source": [
    "The more likely endangered species might just be `Mammal` which has the most `Endangered` species or `Fish` which has 3 `Endangered` species and 4 `Threatened` species, and let's not forget that only ~9% of it's species are cared for that's 11 species in absolute numbers whereas for `Mammal` up to 17% are cared for which is up to 38 species in real numbers."
   ]
  },
  {
   "cell_type": "markdown",
   "metadata": {},
   "source": [
    "Are the differences between species' conservation status significant? <br>\n",
    "To answer this question we need to look at just how related the conservation status between categories of species are i.e whether or not they are dependent on each other. So let's calculate the probability of them being independent. "
   ]
  },
  {
   "cell_type": "code",
   "execution_count": 116,
   "metadata": {},
   "outputs": [
    {
     "data": {
      "text/html": [
       "<div>\n",
       "<style scoped>\n",
       "    .dataframe tbody tr th:only-of-type {\n",
       "        vertical-align: middle;\n",
       "    }\n",
       "\n",
       "    .dataframe tbody tr th {\n",
       "        vertical-align: top;\n",
       "    }\n",
       "\n",
       "    .dataframe thead th {\n",
       "        text-align: right;\n",
       "    }\n",
       "</style>\n",
       "<table border=\"1\" class=\"dataframe\">\n",
       "  <thead>\n",
       "    <tr style=\"text-align: right;\">\n",
       "      <th>conservation_status</th>\n",
       "      <th>Endangered</th>\n",
       "      <th>In Recovery</th>\n",
       "      <th>Species of Concern</th>\n",
       "      <th>Threatened</th>\n",
       "    </tr>\n",
       "    <tr>\n",
       "      <th>category</th>\n",
       "      <th></th>\n",
       "      <th></th>\n",
       "      <th></th>\n",
       "      <th></th>\n",
       "    </tr>\n",
       "  </thead>\n",
       "  <tbody>\n",
       "    <tr>\n",
       "      <th>Amphibian</th>\n",
       "      <td>1</td>\n",
       "      <td>0</td>\n",
       "      <td>4</td>\n",
       "      <td>2</td>\n",
       "    </tr>\n",
       "    <tr>\n",
       "      <th>Bird</th>\n",
       "      <td>4</td>\n",
       "      <td>3</td>\n",
       "      <td>72</td>\n",
       "      <td>0</td>\n",
       "    </tr>\n",
       "    <tr>\n",
       "      <th>Fish</th>\n",
       "      <td>3</td>\n",
       "      <td>0</td>\n",
       "      <td>4</td>\n",
       "      <td>4</td>\n",
       "    </tr>\n",
       "    <tr>\n",
       "      <th>Mammal</th>\n",
       "      <td>7</td>\n",
       "      <td>1</td>\n",
       "      <td>28</td>\n",
       "      <td>2</td>\n",
       "    </tr>\n",
       "    <tr>\n",
       "      <th>Nonvascular Plant</th>\n",
       "      <td>0</td>\n",
       "      <td>0</td>\n",
       "      <td>5</td>\n",
       "      <td>0</td>\n",
       "    </tr>\n",
       "    <tr>\n",
       "      <th>Reptile</th>\n",
       "      <td>0</td>\n",
       "      <td>0</td>\n",
       "      <td>5</td>\n",
       "      <td>0</td>\n",
       "    </tr>\n",
       "    <tr>\n",
       "      <th>Vascular Plant</th>\n",
       "      <td>1</td>\n",
       "      <td>0</td>\n",
       "      <td>43</td>\n",
       "      <td>2</td>\n",
       "    </tr>\n",
       "  </tbody>\n",
       "</table>\n",
       "</div>"
      ],
      "text/plain": [
       "conservation_status  Endangered  In Recovery  Species of Concern  Threatened\n",
       "category                                                                    \n",
       "Amphibian                     1            0                   4           2\n",
       "Bird                          4            3                  72           0\n",
       "Fish                          3            0                   4           4\n",
       "Mammal                        7            1                  28           2\n",
       "Nonvascular Plant             0            0                   5           0\n",
       "Reptile                       0            0                   5           0\n",
       "Vascular Plant                1            0                  43           2"
      ]
     },
     "execution_count": 116,
     "metadata": {},
     "output_type": "execute_result"
    }
   ],
   "source": [
    "from scipy.stats import chi2_contingency as ch2\n",
    "\n",
    "species_status"
   ]
  },
  {
   "cell_type": "markdown",
   "metadata": {},
   "source": [
    "By using the chi-square contingency function our null hypothesis automatically becomes \"The variables are independent\", so it will calculate the probability that our null hypothesis is True. Now we need to set a probability treshold, this treshold with tell us whether value is **significant**ly different from our null hypothesis or **not significant**ly different from our null hypothesis, this means that a low propbability is **significant**ly different and a high probability is **not significant**. The standard threshold is `0.05` i.e 5% so we'll stick with it"
   ]
  },
  {
   "cell_type": "code",
   "execution_count": 117,
   "metadata": {},
   "outputs": [
    {
     "name": "stdout",
     "output_type": "stream",
     "text": [
      "species_care df: 0.031145264082780604\n",
      "species_status df: 0.027054869392704923\n"
     ]
    }
   ],
   "source": [
    "def cal_prob(data):\n",
    "    chi_dist, prob, dof, expected = ch2(data)\n",
    "    return {\"chi-square-dist\": chi_dist, \"probability\": prob, \"degree_of_freedom\": dof, \"expected_freq\": expected}\n",
    "\n",
    "mammal_fish1 = cal_prob(species_care.loc[[\"Mammal\", \"Fish\"], ['No', \"Yes\"]])\n",
    "\n",
    "print(\"species_care df:\", mammal_fish1['probability'])\n",
    "\n",
    "\n",
    "mammal_fish2 = cal_prob(species_status.loc[[\"Mammal\", \"Fish\"]])\n",
    "\n",
    "print(\"species_status df:\", mammal_fish2['probability'])\n"
   ]
  },
  {
   "cell_type": "markdown",
   "metadata": {},
   "source": [
    "A probability of `0.03` and `0.02` is quite small which means that the probabiliy of the `conservation_status` for `Fish` and `Mammal` beign completely independent is `0.03` (3%) when working with the `is_cared` data (`spcies_care`) and `0.02` for the `species_status` dataset which are both less than `0.05` indicating that value is \"significant\" enough for us to reject the null hypothesis. Since the probabilty of the variables being independent is so small (3%) let's see what the expected frequencies are when they are independent"
   ]
  },
  {
   "cell_type": "code",
   "execution_count": 118,
   "metadata": {},
   "outputs": [
    {
     "name": "stdout",
     "output_type": "stream",
     "text": [
      "expected Data:\n",
      "                 No        Yes\n",
      "Fish    183.249267  30.750733\n",
      "Mammal  108.750733  18.249267\n",
      "real data:\n",
      " is_cared   No  Yes  percent_cared\n",
      "category                         \n",
      "Fish      116   11       8.661417\n",
      "Mammal    176   38      17.757009\n"
     ]
    }
   ],
   "source": [
    "expected_fish_mammal = pd.DataFrame(mammal_fish1['expected_freq'], columns=['No', \"Yes\"], index=['Fish', \"Mammal\"])\n",
    "\n",
    "print(\"expected Data:\\n\", expected_fish_mammal)\n",
    "print(\"real data:\\n\", species_care.loc[['Fish', \"Mammal\"]])"
   ]
  },
  {
   "cell_type": "code",
   "execution_count": 119,
   "metadata": {},
   "outputs": [
    {
     "name": "stdout",
     "output_type": "stream",
     "text": [
      "Expected Data:\n",
      " conservation_status  Endangered  In Recovery  Species of Concern  Threatened\n",
      "Mammal                 7.755102      0.77551           24.816327    4.653061\n",
      "Fish                   2.244898      0.22449            7.183673    1.346939\n",
      "Real Data:\n",
      " conservation_status  Endangered  In Recovery  Species of Concern  Threatened\n",
      "category                                                                    \n",
      "Mammal                        7            1                  28           2\n",
      "Fish                          3            0                   4           4\n"
     ]
    }
   ],
   "source": [
    "\n",
    "expected_fish_mammal2 = pd.DataFrame(data=mammal_fish2['expected_freq'], columns=species_status.columns, index=[\"Mammal\", \"Fish\"])\n",
    "print(\"Expected Data:\\n\", expected_fish_mammal2)\n",
    "print(\"Real Data:\\n\", species_status.loc[['Mammal', \"Fish\"]])"
   ]
  },
  {
   "cell_type": "markdown",
   "metadata": {},
   "source": [
    "Now let's iterate over all the combination of categories for both the datasets `species_care` and `species_status` and print out their probabilities"
   ]
  },
  {
   "cell_type": "code",
   "execution_count": 120,
   "metadata": {},
   "outputs": [
    {
     "data": {
      "text/html": [
       "<div>\n",
       "<style scoped>\n",
       "    .dataframe tbody tr th:only-of-type {\n",
       "        vertical-align: middle;\n",
       "    }\n",
       "\n",
       "    .dataframe tbody tr th {\n",
       "        vertical-align: top;\n",
       "    }\n",
       "\n",
       "    .dataframe thead th {\n",
       "        text-align: right;\n",
       "    }\n",
       "</style>\n",
       "<table border=\"1\" class=\"dataframe\">\n",
       "  <thead>\n",
       "    <tr style=\"text-align: right;\">\n",
       "      <th></th>\n",
       "      <th>Combinations</th>\n",
       "      <th>Probability</th>\n",
       "    </tr>\n",
       "  </thead>\n",
       "  <tbody>\n",
       "    <tr>\n",
       "      <th>0</th>\n",
       "      <td>(Mammal, Bird)</td>\n",
       "      <td>4.459017e-01</td>\n",
       "    </tr>\n",
       "    <tr>\n",
       "      <th>1</th>\n",
       "      <td>(Mammal, Reptile)</td>\n",
       "      <td>2.338465e-02</td>\n",
       "    </tr>\n",
       "    <tr>\n",
       "      <th>2</th>\n",
       "      <td>(Mammal, Amphibian)</td>\n",
       "      <td>8.416929e-02</td>\n",
       "    </tr>\n",
       "    <tr>\n",
       "      <th>3</th>\n",
       "      <td>(Mammal, Fish)</td>\n",
       "      <td>3.114526e-02</td>\n",
       "    </tr>\n",
       "    <tr>\n",
       "      <th>4</th>\n",
       "      <td>(Mammal, Vascular Plant)</td>\n",
       "      <td>1.734911e-70</td>\n",
       "    </tr>\n",
       "  </tbody>\n",
       "</table>\n",
       "</div>"
      ],
      "text/plain": [
       "               Combinations   Probability\n",
       "0            (Mammal, Bird)  4.459017e-01\n",
       "1         (Mammal, Reptile)  2.338465e-02\n",
       "2       (Mammal, Amphibian)  8.416929e-02\n",
       "3            (Mammal, Fish)  3.114526e-02\n",
       "4  (Mammal, Vascular Plant)  1.734911e-70"
      ]
     },
     "execution_count": 120,
     "metadata": {},
     "output_type": "execute_result"
    }
   ],
   "source": [
    "import itertools\n",
    "\n",
    "categories = species.category.unique()\n",
    "\n",
    "pairs = list(itertools.combinations(categories, 2))\n",
    "\n",
    "\n",
    "probs_cared = []\n",
    "\n",
    "for i, pair in enumerate(pairs):\n",
    "    prob1 = cal_prob(species_care.loc[list(pair), ['No', \"Yes\"]])\n",
    "\n",
    "    probs_cared.append([pair, prob1[\"probability\"]])\n",
    "\n",
    "df_col = ['Combinations', \"Probability\"]\n",
    "probabilities_cared = pd.DataFrame(probs_cared, columns=df_col)\n",
    "probabilities_cared.head()"
   ]
  },
  {
   "cell_type": "code",
   "execution_count": 121,
   "metadata": {},
   "outputs": [
    {
     "data": {
      "text/html": [
       "<div>\n",
       "<style scoped>\n",
       "    .dataframe tbody tr th:only-of-type {\n",
       "        vertical-align: middle;\n",
       "    }\n",
       "\n",
       "    .dataframe tbody tr th {\n",
       "        vertical-align: top;\n",
       "    }\n",
       "\n",
       "    .dataframe thead th {\n",
       "        text-align: right;\n",
       "    }\n",
       "</style>\n",
       "<table border=\"1\" class=\"dataframe\">\n",
       "  <thead>\n",
       "    <tr style=\"text-align: right;\">\n",
       "      <th></th>\n",
       "      <th>Combinations</th>\n",
       "      <th>Probability</th>\n",
       "    </tr>\n",
       "  </thead>\n",
       "  <tbody>\n",
       "    <tr>\n",
       "      <th>0</th>\n",
       "      <td>(Mammal, Bird)</td>\n",
       "      <td>0.026536</td>\n",
       "    </tr>\n",
       "    <tr>\n",
       "      <th>1</th>\n",
       "      <td>(Mammal, Reptile)</td>\n",
       "      <td>0.876894</td>\n",
       "    </tr>\n",
       "    <tr>\n",
       "      <th>2</th>\n",
       "      <td>(Mammal, Amphibian)</td>\n",
       "      <td>0.271855</td>\n",
       "    </tr>\n",
       "    <tr>\n",
       "      <th>3</th>\n",
       "      <td>(Mammal, Fish)</td>\n",
       "      <td>0.038294</td>\n",
       "    </tr>\n",
       "    <tr>\n",
       "      <th>4</th>\n",
       "      <td>(Mammal, Vascular Plant)</td>\n",
       "      <td>0.073339</td>\n",
       "    </tr>\n",
       "  </tbody>\n",
       "</table>\n",
       "</div>"
      ],
      "text/plain": [
       "               Combinations  Probability\n",
       "0            (Mammal, Bird)     0.026536\n",
       "1         (Mammal, Reptile)     0.876894\n",
       "2       (Mammal, Amphibian)     0.271855\n",
       "3            (Mammal, Fish)     0.038294\n",
       "4  (Mammal, Vascular Plant)     0.073339"
      ]
     },
     "execution_count": 121,
     "metadata": {},
     "output_type": "execute_result"
    }
   ],
   "source": [
    "probs_status = []\n",
    "\n",
    "# for the species_stat some cells have a value of 0 which will cause an error\n",
    "# if we try to pass it to the chi2_contingency function. So we add 0.5 to each\n",
    "# value to avoid the error\n",
    "example_stat = species_status + 0.5\n",
    "\n",
    "\n",
    "for i, pair in enumerate(pairs):\n",
    "\n",
    "\n",
    "    prob2 = cal_prob(example_stat.loc[list(pair)])\n",
    "    probs_status.append((pair, prob2['probability']))\n",
    "\n",
    "probabilities_status = pd.DataFrame(probs_status, columns=df_col)\n",
    "probabilities_status.head()"
   ]
  },
  {
   "cell_type": "code",
   "execution_count": 126,
   "metadata": {},
   "outputs": [
    {
     "data": {
      "text/html": [
       "<div>\n",
       "<style scoped>\n",
       "    .dataframe tbody tr th:only-of-type {\n",
       "        vertical-align: middle;\n",
       "    }\n",
       "\n",
       "    .dataframe tbody tr th {\n",
       "        vertical-align: top;\n",
       "    }\n",
       "\n",
       "    .dataframe thead th {\n",
       "        text-align: right;\n",
       "    }\n",
       "</style>\n",
       "<table border=\"1\" class=\"dataframe\">\n",
       "  <thead>\n",
       "    <tr style=\"text-align: right;\">\n",
       "      <th></th>\n",
       "      <th>Combinations</th>\n",
       "      <th>Probability_cared</th>\n",
       "      <th>Probability_status</th>\n",
       "    </tr>\n",
       "  </thead>\n",
       "  <tbody>\n",
       "    <tr>\n",
       "      <th>0</th>\n",
       "      <td>(Mammal, Bird)</td>\n",
       "      <td>4.459017e-01</td>\n",
       "      <td>0.026536</td>\n",
       "    </tr>\n",
       "    <tr>\n",
       "      <th>1</th>\n",
       "      <td>(Mammal, Reptile)</td>\n",
       "      <td>2.338465e-02</td>\n",
       "      <td>0.876894</td>\n",
       "    </tr>\n",
       "    <tr>\n",
       "      <th>2</th>\n",
       "      <td>(Mammal, Amphibian)</td>\n",
       "      <td>8.416929e-02</td>\n",
       "      <td>0.271855</td>\n",
       "    </tr>\n",
       "    <tr>\n",
       "      <th>3</th>\n",
       "      <td>(Mammal, Fish)</td>\n",
       "      <td>3.114526e-02</td>\n",
       "      <td>0.038294</td>\n",
       "    </tr>\n",
       "    <tr>\n",
       "      <th>4</th>\n",
       "      <td>(Mammal, Vascular Plant)</td>\n",
       "      <td>1.734911e-70</td>\n",
       "      <td>0.073339</td>\n",
       "    </tr>\n",
       "  </tbody>\n",
       "</table>\n",
       "</div>"
      ],
      "text/plain": [
       "               Combinations  Probability_cared  Probability_status\n",
       "0            (Mammal, Bird)       4.459017e-01            0.026536\n",
       "1         (Mammal, Reptile)       2.338465e-02            0.876894\n",
       "2       (Mammal, Amphibian)       8.416929e-02            0.271855\n",
       "3            (Mammal, Fish)       3.114526e-02            0.038294\n",
       "4  (Mammal, Vascular Plant)       1.734911e-70            0.073339"
      ]
     },
     "execution_count": 126,
     "metadata": {},
     "output_type": "execute_result"
    }
   ],
   "source": [
    "probabilities = pd.merge(\n",
    "    probabilities_cared,\n",
    "    probabilities_status,\n",
    "    on=\"Combinations\",\n",
    "    how=\"inner\",\n",
    "    suffixes=(\"_cared\", \"_status\"))\n",
    "probabilities.head()"
   ]
  },
  {
   "cell_type": "code",
   "execution_count": 123,
   "metadata": {},
   "outputs": [
    {
     "data": {
      "image/png": "[encoded data removed]",
      "text/plain": [
       "<Figure size 1200x800 with 2 Axes>"
      ]
     },
     "metadata": {},
     "output_type": "display_data"
    }
   ],
   "source": [
    "fig, ax = plt.subplots(1, 2, figsize=(12, 8), sharey=True)\n",
    "\n",
    "sns.barplot(data=probabilities.sort_values(\"Probability_status\", ascending=False), y=\"Combinations\", x=\"Probability_cared\", ax=ax[0])\n",
    "ax[0].set_title(\"Probability of Independence\")\n",
    "ax[0].axvline(0.05, color=\"crimson\", linestyle=\"--\", label=\"Significance Threshold\")\n",
    "ax[0].legend()\n",
    "\n",
    "sns.barplot(data=probabilities.sort_values(\"Probability_status\", ascending=False), y=\"Combinations\", x=\"Probability_status\", ax=ax[1])\n",
    "ax[1].set_title(\"Probability of Independence\")\n",
    "ax[1].axvline(0.05, color=\"crimson\", linestyle=\"--\", label=\"Significance Threshold\")\n",
    "ax[1].legend()\n",
    "\n",
    "plt.tight_layout()\n",
    "plt.show()"
   ]
  },
  {
   "cell_type": "markdown",
   "metadata": {},
   "source": [
    "Here we can see that there more of the species' conservation status are statistically significant when we examine their difference with the `is_cared` variable, on the other hand we see a very different results in terms of the `conservation_status` variable. Let's filter the values and get those that are significant and not significant on both graphs."
   ]
  },
  {
   "cell_type": "code",
   "execution_count": 152,
   "metadata": {},
   "outputs": [
    {
     "data": {
      "text/html": [
       "<div>\n",
       "<style scoped>\n",
       "    .dataframe tbody tr th:only-of-type {\n",
       "        vertical-align: middle;\n",
       "    }\n",
       "\n",
       "    .dataframe tbody tr th {\n",
       "        vertical-align: top;\n",
       "    }\n",
       "\n",
       "    .dataframe thead th {\n",
       "        text-align: right;\n",
       "    }\n",
       "</style>\n",
       "<table border=\"1\" class=\"dataframe\">\n",
       "  <thead>\n",
       "    <tr style=\"text-align: right;\">\n",
       "      <th></th>\n",
       "      <th>Combinations</th>\n",
       "      <th>Probability_cared</th>\n",
       "      <th>Probability_status</th>\n",
       "    </tr>\n",
       "  </thead>\n",
       "  <tbody>\n",
       "    <tr>\n",
       "      <th>2</th>\n",
       "      <td>(Mammal, Amphibian)</td>\n",
       "      <td>0.084169</td>\n",
       "      <td>0.271855</td>\n",
       "    </tr>\n",
       "    <tr>\n",
       "      <th>6</th>\n",
       "      <td>(Bird, Reptile)</td>\n",
       "      <td>0.053032</td>\n",
       "      <td>0.450031</td>\n",
       "    </tr>\n",
       "    <tr>\n",
       "      <th>11</th>\n",
       "      <td>(Reptile, Amphibian)</td>\n",
       "      <td>0.781340</td>\n",
       "      <td>0.634701</td>\n",
       "    </tr>\n",
       "    <tr>\n",
       "      <th>12</th>\n",
       "      <td>(Reptile, Fish)</td>\n",
       "      <td>0.733518</td>\n",
       "      <td>0.248704</td>\n",
       "    </tr>\n",
       "    <tr>\n",
       "      <th>15</th>\n",
       "      <td>(Amphibian, Fish)</td>\n",
       "      <td>1.000000</td>\n",
       "      <td>0.881129</td>\n",
       "    </tr>\n",
       "    <tr>\n",
       "      <th>20</th>\n",
       "      <td>(Vascular Plant, Nonvascular Plant)</td>\n",
       "      <td>0.593134</td>\n",
       "      <td>0.645081</td>\n",
       "    </tr>\n",
       "  </tbody>\n",
       "</table>\n",
       "</div>"
      ],
      "text/plain": [
       "                           Combinations  Probability_cared  Probability_status\n",
       "2                   (Mammal, Amphibian)           0.084169            0.271855\n",
       "6                       (Bird, Reptile)           0.053032            0.450031\n",
       "11                 (Reptile, Amphibian)           0.781340            0.634701\n",
       "12                      (Reptile, Fish)           0.733518            0.248704\n",
       "15                    (Amphibian, Fish)           1.000000            0.881129\n",
       "20  (Vascular Plant, Nonvascular Plant)           0.593134            0.645081"
      ]
     },
     "execution_count": 152,
     "metadata": {},
     "output_type": "execute_result"
    }
   ],
   "source": [
    "data1 = probabilities.loc[(probabilities[\"Probability_cared\"] >= 0.05) & (probabilities[\"Probability_status\"] >= 0.05)]\n",
    "data1"
   ]
  },
  {
   "cell_type": "code",
   "execution_count": 153,
   "metadata": {},
   "outputs": [
    {
     "data": {
      "text/html": [
       "<div>\n",
       "<style scoped>\n",
       "    .dataframe tbody tr th:only-of-type {\n",
       "        vertical-align: middle;\n",
       "    }\n",
       "\n",
       "    .dataframe tbody tr th {\n",
       "        vertical-align: top;\n",
       "    }\n",
       "\n",
       "    .dataframe thead th {\n",
       "        text-align: right;\n",
       "    }\n",
       "</style>\n",
       "<table border=\"1\" class=\"dataframe\">\n",
       "  <thead>\n",
       "    <tr style=\"text-align: right;\">\n",
       "      <th></th>\n",
       "      <th>Combinations</th>\n",
       "      <th>Probability_cared</th>\n",
       "      <th>Probability_status</th>\n",
       "    </tr>\n",
       "  </thead>\n",
       "  <tbody>\n",
       "    <tr>\n",
       "      <th>3</th>\n",
       "      <td>(Mammal, Fish)</td>\n",
       "      <td>3.114526e-02</td>\n",
       "      <td>0.038294</td>\n",
       "    </tr>\n",
       "    <tr>\n",
       "      <th>16</th>\n",
       "      <td>(Amphibian, Vascular Plant)</td>\n",
       "      <td>4.808330e-09</td>\n",
       "      <td>0.024339</td>\n",
       "    </tr>\n",
       "    <tr>\n",
       "      <th>18</th>\n",
       "      <td>(Fish, Vascular Plant)</td>\n",
       "      <td>3.930722e-13</td>\n",
       "      <td>0.000232</td>\n",
       "    </tr>\n",
       "  </tbody>\n",
       "</table>\n",
       "</div>"
      ],
      "text/plain": [
       "                   Combinations  Probability_cared  Probability_status\n",
       "3                (Mammal, Fish)       3.114526e-02            0.038294\n",
       "16  (Amphibian, Vascular Plant)       4.808330e-09            0.024339\n",
       "18       (Fish, Vascular Plant)       3.930722e-13            0.000232"
      ]
     },
     "execution_count": 153,
     "metadata": {},
     "output_type": "execute_result"
    }
   ],
   "source": [
    "data2 = probabilities.loc[(probabilities[\"Probability_cared\"] <= 0.05) & (probabilities[\"Probability_status\"] <= 0.05)]\n",
    "data2"
   ]
  },
  {
   "cell_type": "code",
   "execution_count": 156,
   "metadata": {},
   "outputs": [
    {
     "data": {
      "image/png": "[encoded data removed]",
      "text/plain": [
       "<Figure size 1200x800 with 2 Axes>"
      ]
     },
     "metadata": {},
     "output_type": "display_data"
    }
   ],
   "source": [
    "merged = pd.concat([data1, data2], axis=0)\n",
    "\n",
    "fig, ax = plt.subplots(1, 2, figsize=(12, 8), sharey=True)\n",
    "\n",
    "sns.barplot(data=merged.sort_values(\"Probability_status\", ascending=False), y=\"Combinations\", x=\"Probability_cared\", ax=ax[0])\n",
    "ax[0].set_title(\"Probability of Independence\")\n",
    "ax[0].axvline(0.05, color=\"crimson\", linestyle=\"--\", label=\"Significance Threshold\")\n",
    "ax[0].legend()\n",
    "\n",
    "sns.barplot(data=merged.sort_values(\"Probability_status\", ascending=False), y=\"Combinations\", x=\"Probability_status\", ax=ax[1])\n",
    "ax[1].set_title(\"Probability of Independence\")\n",
    "ax[1].axvline(0.05, color=\"crimson\", linestyle=\"--\", label=\"Significance Threshold\")\n",
    "ax[1].legend()\n",
    "\n",
    "plt.tight_layout()\n",
    "plt.show()"
   ]
  },
  {
   "cell_type": "markdown",
   "metadata": {},
   "source": [
    "In the first plot the First graph (on the left) indicates that more groups are dependent on one another, while the last graph (on the right) indicates that only few categories of species are dependent on one another. Either way dependance between species in terms of`conservation_status` could have a positive or negative ecological effect, from our domain knowledge we know that species share a relationship with one another this could be symbiotic (benefit each other) or parasitic (e.g. ticks and cow or pests and plants etc.) or a predator and prey relationship. So if one species was to go extinct it could endanger its predator or some other species that depends on it, if fishes go extinct sea lions would have nothing to feed on. So  Protecting a keystone species, for instance, could have a cascading effect on the ecosystem, potentially safeguarding multiple species. Conversely, endangering a key species could destabilize the ecosystem, putting additional species at risk."
   ]
  },
  {
   "cell_type": "markdown",
   "metadata": {},
   "source": [
    "What is the distribution of observation status for species in different parks?<br>\n",
    "from what we know there are 4 parks `Great Smoky Mountains National Park`, `Yosemite National Park`,`Bryce National Park` and `Yellowstone National Park`"
   ]
  },
  {
   "cell_type": "code",
   "execution_count": null,
   "metadata": {},
   "outputs": [],
   "source": [
    "unique_parks = observation.park_name.unique()"
   ]
  },
  {
   "cell_type": "code",
   "execution_count": null,
   "metadata": {},
   "outputs": [
    {
     "data": {
      "image/png": "[encoded data removed]",
      "text/plain": [
       "<Figure size 1200x1200 with 4 Axes>"
      ]
     },
     "metadata": {},
     "output_type": "display_data"
    }
   ],
   "source": [
    "nrow = 2\n",
    "ncol = 2\n",
    "\n",
    "fig, ax = plt.subplots(nrow, ncol, figsize=(12, 12))\n",
    "\n",
    "i = 0\n",
    "for r in range(nrow):\n",
    "    for c in range(ncol):\n",
    "        data = observation[observation.park_name == unique_parks[i]].observations\n",
    "        ax[r, c].hist(data, bins=50)\n",
    "        ax[r, c].axvline(data.mean(), color=\"red\", linestyle=\"--\")\n",
    "        ax[r, c].set_xlabel(f\"Mean: {round(data.mean(), 2)}\")\n",
    "        ax[r, c].set_title(unique_parks[i])\n",
    "        i+=1\n",
    "\n",
    "plt.show()"
   ]
  },
  {
   "cell_type": "markdown",
   "metadata": {},
   "source": [
    "The distributions of `observations` across different parks seem to be normal which indecates nothing unusual although `Yellowstone National Park` seems a little bit left skewed but it didn't affect the mean so it's safe to say it's normal."
   ]
  },
  {
   "cell_type": "markdown",
   "metadata": {},
   "source": [
    "Which animal is most prevalent and what is their distribution amongst parks? <br>\n"
   ]
  },
  {
   "cell_type": "code",
   "execution_count": 138,
   "metadata": {},
   "outputs": [
    {
     "data": {
      "text/plain": [
       "0                             [Gappers, RedBacked, Vole]\n",
       "1                                      [American, Bison]\n",
       "2       [Aurochs, Domestic, Cattle, Feral, Domesticated]\n",
       "3                 [Domestic, Sheep, Mouflon, Red, Feral]\n",
       "4                                      [Wapiti, Or, Elk]\n",
       "                              ...                       \n",
       "4610                                          [Hardhead]\n",
       "4611                            [Sacramento, Pikeminnow]\n",
       "4612                        [Lahontan, Cutthroat, Trout]\n",
       "4613                         [California, Golden, Trout]\n",
       "4614                                   [Riffle, Sculpin]\n",
       "Name: common_names, Length: 1021, dtype: object"
      ]
     },
     "execution_count": 138,
     "metadata": {},
     "output_type": "execute_result"
    }
   ],
   "source": [
    "import re\n",
    "import string\n",
    "\n",
    "def clean_rows(x):\n",
    "    stripped = re.sub(f\"[{string.punctuation}]\", \"\", x)\n",
    "    cleaned = list(dict.fromkeys(stripped.split()))\n",
    "    return cleaned\n",
    "\n",
    "\n",
    "new_names = species[(species.category != \"Vascular Plant\") & (species.category != \"Nonvascular Plant\")].common_names.apply(clean_rows)\n",
    "new_names\n"
   ]
  },
  {
   "cell_type": "code",
   "execution_count": 139,
   "metadata": {},
   "outputs": [
    {
     "data": {
      "text/plain": [
       "['Gappers',\n",
       " 'RedBacked',\n",
       " 'Vole',\n",
       " 'American',\n",
       " 'Bison',\n",
       " 'Aurochs',\n",
       " 'Domestic',\n",
       " 'Cattle',\n",
       " 'Feral',\n",
       " 'Domesticated']"
      ]
     },
     "execution_count": 139,
     "metadata": {},
     "output_type": "execute_result"
    }
   ],
   "source": [
    "names_list = []\n",
    "\n",
    "for name in new_names:\n",
    "    for item in name:\n",
    "        names_list.append(item)\n",
    "\n",
    "\n",
    "names_list[:10]"
   ]
  },
  {
   "cell_type": "code",
   "execution_count": 140,
   "metadata": {},
   "outputs": [
    {
     "data": {
      "text/html": [
       "<div>\n",
       "<style scoped>\n",
       "    .dataframe tbody tr th:only-of-type {\n",
       "        vertical-align: middle;\n",
       "    }\n",
       "\n",
       "    .dataframe tbody tr th {\n",
       "        vertical-align: top;\n",
       "    }\n",
       "\n",
       "    .dataframe thead th {\n",
       "        text-align: right;\n",
       "    }\n",
       "</style>\n",
       "<table border=\"1\" class=\"dataframe\">\n",
       "  <thead>\n",
       "    <tr style=\"text-align: right;\">\n",
       "      <th></th>\n",
       "      <th>Specie_name</th>\n",
       "      <th>count</th>\n",
       "    </tr>\n",
       "  </thead>\n",
       "  <tbody>\n",
       "    <tr>\n",
       "      <th>0</th>\n",
       "      <td>Warbler</td>\n",
       "      <td>59</td>\n",
       "    </tr>\n",
       "    <tr>\n",
       "      <th>1</th>\n",
       "      <td>Northern</td>\n",
       "      <td>53</td>\n",
       "    </tr>\n",
       "    <tr>\n",
       "      <th>2</th>\n",
       "      <td>Salamander</td>\n",
       "      <td>41</td>\n",
       "    </tr>\n",
       "    <tr>\n",
       "      <th>3</th>\n",
       "      <td>Eastern</td>\n",
       "      <td>39</td>\n",
       "    </tr>\n",
       "    <tr>\n",
       "      <th>4</th>\n",
       "      <td>American</td>\n",
       "      <td>37</td>\n",
       "    </tr>\n",
       "    <tr>\n",
       "      <th>...</th>\n",
       "      <td>...</td>\n",
       "      <td>...</td>\n",
       "    </tr>\n",
       "    <tr>\n",
       "      <th>844</th>\n",
       "      <td>Timber</td>\n",
       "      <td>1</td>\n",
       "    </tr>\n",
       "    <tr>\n",
       "      <th>845</th>\n",
       "      <td>Copperhead</td>\n",
       "      <td>1</td>\n",
       "    </tr>\n",
       "    <tr>\n",
       "      <th>846</th>\n",
       "      <td>Racerunner</td>\n",
       "      <td>1</td>\n",
       "    </tr>\n",
       "    <tr>\n",
       "      <th>847</th>\n",
       "      <td>SixLined</td>\n",
       "      <td>1</td>\n",
       "    </tr>\n",
       "    <tr>\n",
       "      <th>848</th>\n",
       "      <td>Lahontan</td>\n",
       "      <td>1</td>\n",
       "    </tr>\n",
       "  </tbody>\n",
       "</table>\n",
       "<p>849 rows × 2 columns</p>\n",
       "</div>"
      ],
      "text/plain": [
       "    Specie_name  count\n",
       "0       Warbler     59\n",
       "1      Northern     53\n",
       "2    Salamander     41\n",
       "3       Eastern     39\n",
       "4      American     37\n",
       "..          ...    ...\n",
       "844      Timber      1\n",
       "845  Copperhead      1\n",
       "846  Racerunner      1\n",
       "847    SixLined      1\n",
       "848    Lahontan      1\n",
       "\n",
       "[849 rows x 2 columns]"
      ]
     },
     "execution_count": 140,
     "metadata": {},
     "output_type": "execute_result"
    }
   ],
   "source": [
    "species_names = pd.Series(names_list, name=\"Specie_name\")\n",
    "species_names = species_names.value_counts().reset_index().rename(columns={\"index\": \"Specie_name\", \"Specie_name\": \"count\"})\n",
    "\n",
    "species_names"
   ]
  },
  {
   "cell_type": "markdown",
   "metadata": {},
   "source": [
    "We can see that `Warbler` appeared 59 times now lets get the scientific name of this animal, but it having appear this many times means that there must be some varation in `scientific_name` and we are only interested in it's **Genus** and **Species** which every `scientific_name` comprises of the **Genus** is the first name in any scientific name while the **Species** is the second name, other things added just indicate variation, so we'll make a new column called `Botanical_name` unlike `scientific_name` it doesn't indicate variation in species."
   ]
  },
  {
   "cell_type": "code",
   "execution_count": 141,
   "metadata": {},
   "outputs": [
    {
     "data": {
      "text/html": [
       "<div>\n",
       "<style scoped>\n",
       "    .dataframe tbody tr th:only-of-type {\n",
       "        vertical-align: middle;\n",
       "    }\n",
       "\n",
       "    .dataframe tbody tr th {\n",
       "        vertical-align: top;\n",
       "    }\n",
       "\n",
       "    .dataframe thead th {\n",
       "        text-align: right;\n",
       "    }\n",
       "</style>\n",
       "<table border=\"1\" class=\"dataframe\">\n",
       "  <thead>\n",
       "    <tr style=\"text-align: right;\">\n",
       "      <th></th>\n",
       "      <th>scientific_name</th>\n",
       "      <th>park_name</th>\n",
       "      <th>observations</th>\n",
       "      <th>Latin_names</th>\n",
       "    </tr>\n",
       "  </thead>\n",
       "  <tbody>\n",
       "    <tr>\n",
       "      <th>0</th>\n",
       "      <td>Vicia benghalensis</td>\n",
       "      <td>Great Smoky Mountains National Park</td>\n",
       "      <td>68</td>\n",
       "      <td>Vicia benghalensis</td>\n",
       "    </tr>\n",
       "    <tr>\n",
       "      <th>1</th>\n",
       "      <td>Neovison vison</td>\n",
       "      <td>Great Smoky Mountains National Park</td>\n",
       "      <td>77</td>\n",
       "      <td>Neovison vison</td>\n",
       "    </tr>\n",
       "    <tr>\n",
       "      <th>2</th>\n",
       "      <td>Prunus subcordata</td>\n",
       "      <td>Yosemite National Park</td>\n",
       "      <td>138</td>\n",
       "      <td>Prunus subcordata</td>\n",
       "    </tr>\n",
       "    <tr>\n",
       "      <th>3</th>\n",
       "      <td>Abutilon theophrasti</td>\n",
       "      <td>Bryce National Park</td>\n",
       "      <td>84</td>\n",
       "      <td>Abutilon theophrasti</td>\n",
       "    </tr>\n",
       "    <tr>\n",
       "      <th>4</th>\n",
       "      <td>Githopsis specularioides</td>\n",
       "      <td>Great Smoky Mountains National Park</td>\n",
       "      <td>85</td>\n",
       "      <td>Githopsis specularioides</td>\n",
       "    </tr>\n",
       "  </tbody>\n",
       "</table>\n",
       "</div>"
      ],
      "text/plain": [
       "            scientific_name                            park_name  \\\n",
       "0        Vicia benghalensis  Great Smoky Mountains National Park   \n",
       "1            Neovison vison  Great Smoky Mountains National Park   \n",
       "2         Prunus subcordata               Yosemite National Park   \n",
       "3      Abutilon theophrasti                  Bryce National Park   \n",
       "4  Githopsis specularioides  Great Smoky Mountains National Park   \n",
       "\n",
       "   observations               Latin_names  \n",
       "0            68        Vicia benghalensis  \n",
       "1            77            Neovison vison  \n",
       "2           138         Prunus subcordata  \n",
       "3            84      Abutilon theophrasti  \n",
       "4            85  Githopsis specularioides  "
      ]
     },
     "execution_count": 141,
     "metadata": {},
     "output_type": "execute_result"
    }
   ],
   "source": [
    "botanical = species.scientific_name.str.split(expand=True)\n",
    "species['Latin_names'] = botanical[0] + \" \" + botanical[1]\n",
    "\n",
    "\n",
    "\n",
    "botanical = observation.scientific_name.str.split(expand=True)\n",
    "observation['Latin_names'] = botanical[0] + \" \" + botanical[1]\n",
    "observation.head()"
   ]
  },
  {
   "cell_type": "code",
   "execution_count": 142,
   "metadata": {},
   "outputs": [
    {
     "data": {
      "text/html": [
       "<div>\n",
       "<style scoped>\n",
       "    .dataframe tbody tr th:only-of-type {\n",
       "        vertical-align: middle;\n",
       "    }\n",
       "\n",
       "    .dataframe tbody tr th {\n",
       "        vertical-align: top;\n",
       "    }\n",
       "\n",
       "    .dataframe thead th {\n",
       "        text-align: right;\n",
       "    }\n",
       "</style>\n",
       "<table border=\"1\" class=\"dataframe\">\n",
       "  <thead>\n",
       "    <tr style=\"text-align: right;\">\n",
       "      <th></th>\n",
       "      <th>category</th>\n",
       "      <th>scientific_name</th>\n",
       "      <th>common_names</th>\n",
       "      <th>conservation_status</th>\n",
       "      <th>is_cared</th>\n",
       "      <th>Latin_names</th>\n",
       "    </tr>\n",
       "  </thead>\n",
       "  <tbody>\n",
       "    <tr>\n",
       "      <th>90</th>\n",
       "      <td>Bird</td>\n",
       "      <td>Vermivora pinus X chrysoptera</td>\n",
       "      <td>Brewster's Warbler</td>\n",
       "      <td>Not_concerned</td>\n",
       "      <td>False</td>\n",
       "      <td>Vermivora pinus</td>\n",
       "    </tr>\n",
       "    <tr>\n",
       "      <th>247</th>\n",
       "      <td>Bird</td>\n",
       "      <td>Dendroica caerulescens</td>\n",
       "      <td>Black-Throated Blue Warbler</td>\n",
       "      <td>Not_concerned</td>\n",
       "      <td>False</td>\n",
       "      <td>Dendroica caerulescens</td>\n",
       "    </tr>\n",
       "    <tr>\n",
       "      <th>248</th>\n",
       "      <td>Bird</td>\n",
       "      <td>Dendroica castanea</td>\n",
       "      <td>Bay-Breasted Warbler</td>\n",
       "      <td>Not_concerned</td>\n",
       "      <td>False</td>\n",
       "      <td>Dendroica castanea</td>\n",
       "    </tr>\n",
       "    <tr>\n",
       "      <th>249</th>\n",
       "      <td>Bird</td>\n",
       "      <td>Dendroica cerulea</td>\n",
       "      <td>Cerulean Warbler</td>\n",
       "      <td>Not_concerned</td>\n",
       "      <td>False</td>\n",
       "      <td>Dendroica cerulea</td>\n",
       "    </tr>\n",
       "    <tr>\n",
       "      <th>250</th>\n",
       "      <td>Bird</td>\n",
       "      <td>Dendroica coronata</td>\n",
       "      <td>Yellow-Rumped Warbler</td>\n",
       "      <td>Not_concerned</td>\n",
       "      <td>False</td>\n",
       "      <td>Dendroica coronata</td>\n",
       "    </tr>\n",
       "  </tbody>\n",
       "</table>\n",
       "</div>"
      ],
      "text/plain": [
       "    category                scientific_name                 common_names  \\\n",
       "90      Bird  Vermivora pinus X chrysoptera           Brewster's Warbler   \n",
       "247     Bird         Dendroica caerulescens  Black-Throated Blue Warbler   \n",
       "248     Bird             Dendroica castanea         Bay-Breasted Warbler   \n",
       "249     Bird              Dendroica cerulea             Cerulean Warbler   \n",
       "250     Bird             Dendroica coronata        Yellow-Rumped Warbler   \n",
       "\n",
       "    conservation_status  is_cared             Latin_names  \n",
       "90        Not_concerned     False         Vermivora pinus  \n",
       "247       Not_concerned     False  Dendroica caerulescens  \n",
       "248       Not_concerned     False      Dendroica castanea  \n",
       "249       Not_concerned     False       Dendroica cerulea  \n",
       "250       Not_concerned     False      Dendroica coronata  "
      ]
     },
     "execution_count": 142,
     "metadata": {},
     "output_type": "execute_result"
    }
   ],
   "source": [
    "warbler = species[species.common_names.apply(lambda x: \"Warbler\" in x)]\n",
    "warbler.head()"
   ]
  },
  {
   "cell_type": "code",
   "execution_count": 143,
   "metadata": {},
   "outputs": [
    {
     "data": {
      "text/html": [
       "<div>\n",
       "<style scoped>\n",
       "    .dataframe tbody tr th:only-of-type {\n",
       "        vertical-align: middle;\n",
       "    }\n",
       "\n",
       "    .dataframe tbody tr th {\n",
       "        vertical-align: top;\n",
       "    }\n",
       "\n",
       "    .dataframe thead th {\n",
       "        text-align: right;\n",
       "    }\n",
       "</style>\n",
       "<table border=\"1\" class=\"dataframe\">\n",
       "  <thead>\n",
       "    <tr style=\"text-align: right;\">\n",
       "      <th></th>\n",
       "      <th>category</th>\n",
       "      <th>scientific_name</th>\n",
       "      <th>common_names</th>\n",
       "      <th>conservation_status</th>\n",
       "      <th>is_cared</th>\n",
       "      <th>Latin_names</th>\n",
       "    </tr>\n",
       "  </thead>\n",
       "  <tbody>\n",
       "    <tr>\n",
       "      <th>0</th>\n",
       "      <td>Mammal</td>\n",
       "      <td>Clethrionomys gapperi gapperi</td>\n",
       "      <td>Gapper's Red-Backed Vole</td>\n",
       "      <td>Not_concerned</td>\n",
       "      <td>False</td>\n",
       "      <td>Clethrionomys gapperi</td>\n",
       "    </tr>\n",
       "    <tr>\n",
       "      <th>1</th>\n",
       "      <td>Mammal</td>\n",
       "      <td>Bos bison</td>\n",
       "      <td>American Bison, Bison</td>\n",
       "      <td>Not_concerned</td>\n",
       "      <td>False</td>\n",
       "      <td>Bos bison</td>\n",
       "    </tr>\n",
       "    <tr>\n",
       "      <th>2</th>\n",
       "      <td>Mammal</td>\n",
       "      <td>Bos taurus</td>\n",
       "      <td>Aurochs, Aurochs, Domestic Cattle (Feral), Dom...</td>\n",
       "      <td>Not_concerned</td>\n",
       "      <td>False</td>\n",
       "      <td>Bos taurus</td>\n",
       "    </tr>\n",
       "    <tr>\n",
       "      <th>3</th>\n",
       "      <td>Mammal</td>\n",
       "      <td>Ovis aries</td>\n",
       "      <td>Domestic Sheep, Mouflon, Red Sheep, Sheep (Feral)</td>\n",
       "      <td>Not_concerned</td>\n",
       "      <td>False</td>\n",
       "      <td>Ovis aries</td>\n",
       "    </tr>\n",
       "    <tr>\n",
       "      <th>4</th>\n",
       "      <td>Mammal</td>\n",
       "      <td>Cervus elaphus</td>\n",
       "      <td>Wapiti Or Elk</td>\n",
       "      <td>Not_concerned</td>\n",
       "      <td>False</td>\n",
       "      <td>Cervus elaphus</td>\n",
       "    </tr>\n",
       "  </tbody>\n",
       "</table>\n",
       "</div>"
      ],
      "text/plain": [
       "  category                scientific_name  \\\n",
       "0   Mammal  Clethrionomys gapperi gapperi   \n",
       "1   Mammal                      Bos bison   \n",
       "2   Mammal                     Bos taurus   \n",
       "3   Mammal                     Ovis aries   \n",
       "4   Mammal                 Cervus elaphus   \n",
       "\n",
       "                                        common_names conservation_status  \\\n",
       "0                           Gapper's Red-Backed Vole       Not_concerned   \n",
       "1                              American Bison, Bison       Not_concerned   \n",
       "2  Aurochs, Aurochs, Domestic Cattle (Feral), Dom...       Not_concerned   \n",
       "3  Domestic Sheep, Mouflon, Red Sheep, Sheep (Feral)       Not_concerned   \n",
       "4                                      Wapiti Or Elk       Not_concerned   \n",
       "\n",
       "   is_cared            Latin_names  \n",
       "0     False  Clethrionomys gapperi  \n",
       "1     False              Bos bison  \n",
       "2     False             Bos taurus  \n",
       "3     False             Ovis aries  \n",
       "4     False         Cervus elaphus  "
      ]
     },
     "execution_count": 143,
     "metadata": {},
     "output_type": "execute_result"
    }
   ],
   "source": [
    "species.head()"
   ]
  },
  {
   "cell_type": "code",
   "execution_count": 147,
   "metadata": {},
   "outputs": [],
   "source": [
    "warbler_species = warbler.Latin_names.unique()\n",
    "\n",
    "obser_list = []\n",
    "for specie in warbler_species:\n",
    "    data = observation[observation.Latin_names == specie]\n",
    "    obser_list.append(data)\n",
    "\n",
    "warbler_obser = pd.concat(obser_list)"
   ]
  },
  {
   "cell_type": "code",
   "execution_count": 148,
   "metadata": {},
   "outputs": [
    {
     "data": {
      "text/html": [
       "<div>\n",
       "<style scoped>\n",
       "    .dataframe tbody tr th:only-of-type {\n",
       "        vertical-align: middle;\n",
       "    }\n",
       "\n",
       "    .dataframe tbody tr th {\n",
       "        vertical-align: top;\n",
       "    }\n",
       "\n",
       "    .dataframe thead th {\n",
       "        text-align: right;\n",
       "    }\n",
       "</style>\n",
       "<table border=\"1\" class=\"dataframe\">\n",
       "  <thead>\n",
       "    <tr style=\"text-align: right;\">\n",
       "      <th></th>\n",
       "      <th>scientific_name_ob</th>\n",
       "      <th>park_name</th>\n",
       "      <th>observations</th>\n",
       "      <th>Latin_names</th>\n",
       "      <th>category</th>\n",
       "      <th>scientific_name_sp</th>\n",
       "      <th>common_names</th>\n",
       "      <th>conservation_status</th>\n",
       "      <th>is_cared</th>\n",
       "    </tr>\n",
       "  </thead>\n",
       "  <tbody>\n",
       "    <tr>\n",
       "      <th>0</th>\n",
       "      <td>Vermivora pinus X chrysoptera</td>\n",
       "      <td>Great Smoky Mountains National Park</td>\n",
       "      <td>98</td>\n",
       "      <td>Vermivora pinus</td>\n",
       "      <td>Bird</td>\n",
       "      <td>Vermivora pinus X chrysoptera</td>\n",
       "      <td>Brewster's Warbler</td>\n",
       "      <td>Not_concerned</td>\n",
       "      <td>False</td>\n",
       "    </tr>\n",
       "    <tr>\n",
       "      <th>1</th>\n",
       "      <td>Vermivora pinus X chrysoptera</td>\n",
       "      <td>Great Smoky Mountains National Park</td>\n",
       "      <td>98</td>\n",
       "      <td>Vermivora pinus</td>\n",
       "      <td>Bird</td>\n",
       "      <td>Vermivora pinus</td>\n",
       "      <td>Blue-Winged Warbler</td>\n",
       "      <td>Not_concerned</td>\n",
       "      <td>False</td>\n",
       "    </tr>\n",
       "    <tr>\n",
       "      <th>2</th>\n",
       "      <td>Vermivora pinus X chrysoptera</td>\n",
       "      <td>Yosemite National Park</td>\n",
       "      <td>136</td>\n",
       "      <td>Vermivora pinus</td>\n",
       "      <td>Bird</td>\n",
       "      <td>Vermivora pinus X chrysoptera</td>\n",
       "      <td>Brewster's Warbler</td>\n",
       "      <td>Not_concerned</td>\n",
       "      <td>False</td>\n",
       "    </tr>\n",
       "    <tr>\n",
       "      <th>3</th>\n",
       "      <td>Vermivora pinus X chrysoptera</td>\n",
       "      <td>Yosemite National Park</td>\n",
       "      <td>136</td>\n",
       "      <td>Vermivora pinus</td>\n",
       "      <td>Bird</td>\n",
       "      <td>Vermivora pinus</td>\n",
       "      <td>Blue-Winged Warbler</td>\n",
       "      <td>Not_concerned</td>\n",
       "      <td>False</td>\n",
       "    </tr>\n",
       "    <tr>\n",
       "      <th>4</th>\n",
       "      <td>Vermivora pinus</td>\n",
       "      <td>Great Smoky Mountains National Park</td>\n",
       "      <td>80</td>\n",
       "      <td>Vermivora pinus</td>\n",
       "      <td>Bird</td>\n",
       "      <td>Vermivora pinus X chrysoptera</td>\n",
       "      <td>Brewster's Warbler</td>\n",
       "      <td>Not_concerned</td>\n",
       "      <td>False</td>\n",
       "    </tr>\n",
       "  </tbody>\n",
       "</table>\n",
       "</div>"
      ],
      "text/plain": [
       "              scientific_name_ob                            park_name  \\\n",
       "0  Vermivora pinus X chrysoptera  Great Smoky Mountains National Park   \n",
       "1  Vermivora pinus X chrysoptera  Great Smoky Mountains National Park   \n",
       "2  Vermivora pinus X chrysoptera               Yosemite National Park   \n",
       "3  Vermivora pinus X chrysoptera               Yosemite National Park   \n",
       "4                Vermivora pinus  Great Smoky Mountains National Park   \n",
       "\n",
       "   observations      Latin_names category             scientific_name_sp  \\\n",
       "0            98  Vermivora pinus     Bird  Vermivora pinus X chrysoptera   \n",
       "1            98  Vermivora pinus     Bird                Vermivora pinus   \n",
       "2           136  Vermivora pinus     Bird  Vermivora pinus X chrysoptera   \n",
       "3           136  Vermivora pinus     Bird                Vermivora pinus   \n",
       "4            80  Vermivora pinus     Bird  Vermivora pinus X chrysoptera   \n",
       "\n",
       "          common_names conservation_status  is_cared  \n",
       "0   Brewster's Warbler       Not_concerned     False  \n",
       "1  Blue-Winged Warbler       Not_concerned     False  \n",
       "2   Brewster's Warbler       Not_concerned     False  \n",
       "3  Blue-Winged Warbler       Not_concerned     False  \n",
       "4   Brewster's Warbler       Not_concerned     False  "
      ]
     },
     "execution_count": 148,
     "metadata": {},
     "output_type": "execute_result"
    }
   ],
   "source": [
    "warbler_obser = warbler_obser.merge(warbler, on=\"Latin_names\", suffixes=('_ob', \"_sp\"))\n",
    "warbler_obser.head()"
   ]
  },
  {
   "cell_type": "code",
   "execution_count": 149,
   "metadata": {},
   "outputs": [
    {
     "data": {
      "text/html": [
       "<div>\n",
       "<style scoped>\n",
       "    .dataframe tbody tr th:only-of-type {\n",
       "        vertical-align: middle;\n",
       "    }\n",
       "\n",
       "    .dataframe tbody tr th {\n",
       "        vertical-align: top;\n",
       "    }\n",
       "\n",
       "    .dataframe thead th {\n",
       "        text-align: right;\n",
       "    }\n",
       "</style>\n",
       "<table border=\"1\" class=\"dataframe\">\n",
       "  <thead>\n",
       "    <tr style=\"text-align: right;\">\n",
       "      <th></th>\n",
       "      <th>park_name</th>\n",
       "      <th>is_cared</th>\n",
       "      <th>observations</th>\n",
       "    </tr>\n",
       "  </thead>\n",
       "  <tbody>\n",
       "    <tr>\n",
       "      <th>0</th>\n",
       "      <td>Yellowstone National Park</td>\n",
       "      <td>False</td>\n",
       "      <td>15977</td>\n",
       "    </tr>\n",
       "    <tr>\n",
       "      <th>1</th>\n",
       "      <td>Yosemite National Park</td>\n",
       "      <td>False</td>\n",
       "      <td>9651</td>\n",
       "    </tr>\n",
       "    <tr>\n",
       "      <th>2</th>\n",
       "      <td>Bryce National Park</td>\n",
       "      <td>False</td>\n",
       "      <td>6476</td>\n",
       "    </tr>\n",
       "    <tr>\n",
       "      <th>3</th>\n",
       "      <td>Great Smoky Mountains National Park</td>\n",
       "      <td>False</td>\n",
       "      <td>4946</td>\n",
       "    </tr>\n",
       "    <tr>\n",
       "      <th>4</th>\n",
       "      <td>Yellowstone National Park</td>\n",
       "      <td>True</td>\n",
       "      <td>492</td>\n",
       "    </tr>\n",
       "    <tr>\n",
       "      <th>5</th>\n",
       "      <td>Yosemite National Park</td>\n",
       "      <td>True</td>\n",
       "      <td>271</td>\n",
       "    </tr>\n",
       "    <tr>\n",
       "      <th>6</th>\n",
       "      <td>Bryce National Park</td>\n",
       "      <td>True</td>\n",
       "      <td>195</td>\n",
       "    </tr>\n",
       "    <tr>\n",
       "      <th>7</th>\n",
       "      <td>Great Smoky Mountains National Park</td>\n",
       "      <td>True</td>\n",
       "      <td>145</td>\n",
       "    </tr>\n",
       "  </tbody>\n",
       "</table>\n",
       "</div>"
      ],
      "text/plain": [
       "                             park_name  is_cared  observations\n",
       "0            Yellowstone National Park     False         15977\n",
       "1               Yosemite National Park     False          9651\n",
       "2                  Bryce National Park     False          6476\n",
       "3  Great Smoky Mountains National Park     False          4946\n",
       "4            Yellowstone National Park      True           492\n",
       "5               Yosemite National Park      True           271\n",
       "6                  Bryce National Park      True           195\n",
       "7  Great Smoky Mountains National Park      True           145"
      ]
     },
     "execution_count": 149,
     "metadata": {},
     "output_type": "execute_result"
    }
   ],
   "source": [
    "obser_freq = warbler_obser.groupby([\"park_name\", \"is_cared\"]).observations.sum().sort_values(ascending=False).reset_index()\n",
    "obser_freq"
   ]
  },
  {
   "cell_type": "code",
   "execution_count": 150,
   "metadata": {},
   "outputs": [
    {
     "data": {
      "image/png": "[encoded data removed]",
      "text/plain": [
       "<Figure size 1200x800 with 2 Axes>"
      ]
     },
     "metadata": {},
     "output_type": "display_data"
    }
   ],
   "source": [
    "plt.figure(figsize=(12, 8))\n",
    "plt.subplot(1, 2, 1)\n",
    "sns.boxplot(data=warbler_obser, x=\"park_name\", y='observations', hue=\"is_cared\")\n",
    "plt.xticks(rotation=15)\n",
    "\n",
    "plt.subplot(1, 2, 2)\n",
    "sns.barplot(data=obser_freq, x=\"park_name\", y=\"observations\", hue=\"is_cared\")\n",
    "plt.xticks(rotation=15)\n",
    "\n",
    "plt.tight_layout()\n",
    "plt.show()"
   ]
  },
  {
   "cell_type": "markdown",
   "metadata": {},
   "source": [
    "The distribution of the `Warbler` bird seem normal for most parks but a bit skewed in `Yellowstone National park` this is due to a significantly low observation of the bird in the park. The fact that a many of these warbler birds are not protected is concerning and could mean that this bird might just be endangered."
   ]
  },
  {
   "cell_type": "markdown",
   "metadata": {},
   "source": [
    "# Conclusion\n",
    "We have finally managed to finish analyzing our data and answer the questions we had in the begining of the project:<br>\n",
    "\n",
    "- What is the distribution of conservation status for species?\n",
    "    - The distribution seems to be centered around the `Bird` category being largest `Species of concern`\n",
    "\n",
    "- What is the distribution of observations for species in different parks?\n",
    "    - Mostly normal with `Yellowstone National Park` having the highest average of 247 observations in the last 7 days\n",
    "\n",
    "- Are certain types of species more likely to be endangered?\n",
    "    - Species that are more likely to be endangered are `Vascular Plant`, `Nonvascular Plant`, `Reptile`,`Fish` and `Amphibian` due to their low proportion of protection\n",
    "\n",
    "- Are the differences between species and their conservation status significant?\n",
    "    - More species have significant differences in their conservation status while other don't.\n",
    "\n",
    "- Which animal is most prevalent and what is their distribution amongst parks?\n",
    "    - The most prevalant animal would be the `Warbler` bird and it's mostly found on the `Yellowstone National park`\n",
    "\n",
    "\n",
    "## Futher insights\n",
    "\n",
    "This data only consist of entries for the past 7 days. Our analysis have revealed some disturbing information about species and how most of them are not protected, our park managers need to really sit up on this, although we don't know who or how the data was collect and exactly why there were a lot of missing entries in the `conservation_status` column in the species dataset. <br><br>\n",
    "It is worth noting that the proportion of the protected species is alarming, none of the categories of species have more than 17% of it's species protected and what might make it worse is that more species are dependent on one another so endangering a keystone specie could affect the biodiversity of others. <br><br>\n",
    "Check out the presentation by click [here](https://1drv.ms/p/s!AmonO_OaXc0nggYueiRUXzul6mWd?e=yxbN19)"
   ]
  }
 ],
 "metadata": {
  "kernelspec": {
   "display_name": "Python 3",
   "language": "python",
   "name": "python3"
  },
  "language_info": {
   "codemirror_mode": {
    "name": "ipython",
    "version": 3
   },
   "file_extension": ".py",
   "mimetype": "text/x-python",
   "name": "python",
   "nbconvert_exporter": "python",
   "pygments_lexer": "ipython3",
   "version": "3.7.12"
  }
 },
 "nbformat": 4,
 "nbformat_minor": 4
}
